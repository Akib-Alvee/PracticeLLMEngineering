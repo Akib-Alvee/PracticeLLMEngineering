{
 "cells": [
  {
   "cell_type": "code",
   "execution_count": 1,
   "id": "0d5fe68b-253c-437f-9b8f-bd310c3e887a",
   "metadata": {},
   "outputs": [],
   "source": [
    "from bs4 import BeautifulSoup\n",
    "import requests\n",
    "from IPython.display import Markdown, display\n",
    "from openai import OpenAI"
   ]
  },
  {
   "cell_type": "code",
   "execution_count": 2,
   "id": "efc95cbf-3be1-456b-bdb1-d896200ee28b",
   "metadata": {},
   "outputs": [],
   "source": [
    "openai = OpenAI(base_url='http://localhost:11434/v1', api_key='ollama')"
   ]
  },
  {
   "cell_type": "code",
   "execution_count": 3,
   "id": "fe4760da-d0e4-41e6-a2ef-08d2b35cbd9f",
   "metadata": {},
   "outputs": [
    {
     "name": "stdout",
     "output_type": "stream",
     "text": [
      "Hi there! Welcome to our conversation! I'm thrilled to be your first message companion. I'm an AI designed to assist and chat with users like you, so feel free to ask me anything, share your thoughts, or just have a fun conversation.\n",
      "\n",
      "How do you like the conversation starting? Do you want to talk about something specific or just see where our chat takes us?\n"
     ]
    }
   ],
   "source": [
    "message = \"Hello, Llama! This is my first ever message to you! Hi!\"\n",
    "response = openai.chat.completions.create(model=\"llama3.2\", messages=[{\"role\":\"user\", \"content\":message}])\n",
    "print(response.choices[0].message.content)"
   ]
  },
  {
   "cell_type": "code",
   "execution_count": 4,
   "id": "40260b82-145e-4573-8c06-eebed52ef9e1",
   "metadata": {},
   "outputs": [],
   "source": [
    "headers = {\n",
    " \"User-Agent\": \"Mozilla/5.0 (Windows NT 10.0; Win64; x64) AppleWebKit/537.36 (KHTML, like Gecko) Chrome/117.0.0.0 Safari/537.36\"\n",
    "}\n",
    "\n",
    "class Website:\n",
    "\n",
    "    def __init__(self, url):\n",
    "        \"\"\"\n",
    "        Create this Website object from the given url using the BeautifulSoup library\n",
    "        \"\"\"\n",
    "        self.url = url\n",
    "        response = requests.get(url, headers=headers)\n",
    "        soup = BeautifulSoup(response.content, 'html.parser')\n",
    "        self.title = soup.title.string if soup.title else \"No title found\"\n",
    "        for irrelevant in soup.body([\"script\", \"style\", \"img\", \"input\"]):\n",
    "            irrelevant.decompose()\n",
    "        self.text = soup.body.get_text(separator=\"\\n\", strip=True)"
   ]
  },
  {
   "cell_type": "code",
   "execution_count": 5,
   "id": "21b0f005-a143-4834-b36b-1a40dc6b9ee3",
   "metadata": {},
   "outputs": [],
   "source": [
    "system_prompt = \"You are an assistant that analyzes the contents of a website \\\n",
    "and provides a short summary, ignoring text that might be navigation related. \\\n",
    "Respond in markdown.\""
   ]
  },
  {
   "cell_type": "code",
   "execution_count": 6,
   "id": "fbcea559-a910-4075-a139-ed747098db13",
   "metadata": {},
   "outputs": [],
   "source": [
    "def user_prompt_for(website):\n",
    "    user_prompt = f\"You are looking at a website titled {website.title}\"\n",
    "    user_prompt += \"\\nThe contents of this website is as follows; \\\n",
    "please provide a short summary of this website in markdown. \\\n",
    "If it includes news or announcements, then summarize these too.\\n\\n\"\n",
    "    user_prompt += website.text\n",
    "    return user_prompt"
   ]
  },
  {
   "cell_type": "code",
   "execution_count": 7,
   "id": "5f3901b6-82a1-45e8-beaa-f39dafaa23ad",
   "metadata": {},
   "outputs": [],
   "source": [
    "def messages_for(website):\n",
    "    return [\n",
    "        {\"role\": \"system\", \"content\": system_prompt},\n",
    "        {\"role\": \"user\", \"content\": user_prompt_for(website)}\n",
    "    ]"
   ]
  },
  {
   "cell_type": "code",
   "execution_count": 8,
   "id": "fed66552-a5fb-4c12-aa88-15ca39982e22",
   "metadata": {},
   "outputs": [],
   "source": [
    "def summarize(url):\n",
    "    website = Website(url)\n",
    "    response = openai.chat.completions.create(\n",
    "        model = \"llama3.2\",\n",
    "        messages = messages_for(website)\n",
    "    )\n",
    "    return response.choices[0].message.content"
   ]
  },
  {
   "cell_type": "code",
   "execution_count": 9,
   "id": "80852a0c-8c6e-47d6-8ef4-4b1ec37c0b10",
   "metadata": {},
   "outputs": [],
   "source": [
    "def display_summary(url):\n",
    "    summary = summarize(url)\n",
    "    display(Markdown(summary))"
   ]
  },
  {
   "cell_type": "code",
   "execution_count": 10,
   "id": "945d8a72-5470-4cd4-8795-ebf79711255b",
   "metadata": {},
   "outputs": [
    {
     "data": {
      "text/markdown": [
       "**Anthropic Website Summary**\n",
       "=====================================\n",
       "\n",
       "### Mission and Goals\n",
       "\n",
       "Anthropic is a public benefit corporation dedicated to securing the benefits of AI and mitigating its risks. They aim to build tools with human benefit at their foundation, ensuring responsible AI development.\n",
       "\n",
       "### Research and Initiatives\n",
       "\n",
       "- **Economic Futures**: Exploring the potential impact of AI on the economy.\n",
       "- **Commitments**: Developing guidelines for responsible AI development.\n",
       "- **Initiatives**: Various projects focused on securing AI benefits and mitigating risks.\n",
       "- **Anthropic Academy**: A platform for learning to build with Claude.\n",
       "\n",
       "### Products and Models\n",
       "\n",
       "- **Claude**: An AI model designed for agents, coding, and computer use. Available in Sonnet 4.5.\n",
       "- **Opus**: Another AI model from Anthropic.\n",
       "\n",
       "### News and Announcements\n",
       "\n",
       "- **Claude Sonnet 4.1**: Released on August 12, 2025.\n",
       "- **Project Vend**: Announced on August 05, 2025.\n",
       "- **Agentic Misalignment**: Discussed as part of Anthropic's views on AI Safety.\n",
       "- **Introducing Claude 4**: Announced on May 22, 2025.\n",
       "\n",
       "### Blog and Resources\n",
       "\n",
       "Articles discussing AI safety, responsible scaling policy, and the benefits of human-centered AI development are available in various locations throughout the website."
      ],
      "text/plain": [
       "<IPython.core.display.Markdown object>"
      ]
     },
     "metadata": {},
     "output_type": "display_data"
    }
   ],
   "source": [
    "display_summary(\"https://anthropic.com\")"
   ]
  },
  {
   "cell_type": "code",
   "execution_count": 11,
   "id": "c33c55b0-2b7b-45b2-94b8-12143de594cc",
   "metadata": {},
   "outputs": [
    {
     "data": {
      "text/markdown": [
       "### Website Summary\n",
       "**Main Sections:**\n",
       "\n",
       "- **Breaking News and Up-to-the-minute global coverage**: The website covers various news topics including politics, business, health, entertainment, sports, science, technology, travel, culture, climate change.\n",
       "\n",
       "- **Video Content**: Features a wide range of viral videos, trending stories, live TV streaming, podcasts, and on-demand video content.\n",
       "  \n",
       "- **Live Updates**: Displays real-time updates on global events, news, markets, social media, and more.\n",
       " \n",
       "   - CNN also offers different editions tailored towards specific demographics such as International audiences in Arabic or Latin American countries.\n",
       "\n",
       "### Notable Announcements:\n",
       "\n",
       "1.  **2025 Elections**: Provides comprehensive information about the elections.\n",
       "   \n",
       "2.  **Taylor Swift Tour News**\n",
       "    \n",
       "3.  Recent updates from world leaders and their announcements\n",
       "4.  A new AI actress has sparked controversy among Hollywood\n",
       "\n",
       "5.  NBA news \n",
       "6.  New technologies unveiled"
      ],
      "text/plain": [
       "<IPython.core.display.Markdown object>"
      ]
     },
     "metadata": {},
     "output_type": "display_data"
    }
   ],
   "source": [
    "display_summary(\"https://cnn.com\")"
   ]
  }
 ],
 "metadata": {
  "kernelspec": {
   "display_name": "Python 3 (ipykernel)",
   "language": "python",
   "name": "python3"
  },
  "language_info": {
   "codemirror_mode": {
    "name": "ipython",
    "version": 3
   },
   "file_extension": ".py",
   "mimetype": "text/x-python",
   "name": "python",
   "nbconvert_exporter": "python",
   "pygments_lexer": "ipython3",
   "version": "3.13.7"
  }
 },
 "nbformat": 4,
 "nbformat_minor": 5
}
